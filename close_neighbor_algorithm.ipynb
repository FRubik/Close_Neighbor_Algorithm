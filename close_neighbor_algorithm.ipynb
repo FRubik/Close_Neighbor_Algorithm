{
 "cells": [
  {
   "cell_type": "markdown",
   "id": "1ec28f1b",
   "metadata": {},
   "source": [
    "# Close Neighbor Algorithm"
   ]
  },
  {
   "cell_type": "markdown",
   "id": "364779f9",
   "metadata": {},
   "source": [
    "## Bibliotecas"
   ]
  },
  {
   "cell_type": "code",
   "execution_count": null,
   "id": "1890fbdb",
   "metadata": {},
   "outputs": [],
   "source": [
    "import pandas as pd\n",
    "import numpy as np"
   ]
  },
  {
   "cell_type": "markdown",
   "id": "1fe0f2b4",
   "metadata": {},
   "source": [
    "## Ler e vizualizar dados\n",
    "\n",
    "- O algoritmo recebe um arquivo CSV como matriz I, esse arquivo pode ser feito com o excel, mas cuidado que o Excel exporta o CSV com separador `;` (ponto e vírgula).\n",
    "    - Se o arquivo CSV estiver com \";\" (ponto e vírgula), uma maneira de resolver é adicionar o argumento `sep = ';'` no comando `pd.read_csv`\n",
    "    \n",
    "    \n",
    "- Para ler a matriz, o arquivo deve ser um CSV na mesma pasta que esse algoritmo\n",
    "    - Se o arquivo não estiver na mesma pasta, você pode especificar o caminho no computador, só lembre-se que o python utiliza barra normal (`/`) como separador de diretório"
   ]
  },
  {
   "cell_type": "code",
   "execution_count": null,
   "id": "d79877c5",
   "metadata": {},
   "outputs": [],
   "source": [
    "dados = pd.read_csv('ex.csv', header = None)\n",
    "matrizI = dados.values\n",
    "dados"
   ]
  },
  {
   "cell_type": "code",
   "execution_count": null,
   "id": "8e5508ca",
   "metadata": {},
   "outputs": [],
   "source": [
    "matrizI = dados.values"
   ]
  },
  {
   "cell_type": "markdown",
   "id": "7e2fd5a1",
   "metadata": {},
   "source": [
    "## Criar e exibir a Matriz B"
   ]
  },
  {
   "cell_type": "code",
   "execution_count": null,
   "id": "afca1fe3",
   "metadata": {},
   "outputs": [],
   "source": [
    "matrizB = np.zeros([len(dados), len(dados)])\n",
    "\n",
    "for i in range(len(dados)):\n",
    "    for j in range(len(dados)):\n",
    "        if i == j:\n",
    "            pass\n",
    "        else:\n",
    "            for k in range(len(dados.columns)):\n",
    "                if dados.iloc[i, k] + dados.iloc[j, k] == 2:\n",
    "                    matrizB[i, j] += 1\n",
    "                    \n",
    "matrizB"
   ]
  },
  {
   "cell_type": "markdown",
   "id": "af1944c6",
   "metadata": {},
   "source": [
    "## Criar e exibir o vetor de soma das linhas"
   ]
  },
  {
   "cell_type": "code",
   "execution_count": null,
   "id": "4f58bd91",
   "metadata": {},
   "outputs": [],
   "source": [
    "Si = np.zeros(len(dados))\n",
    "\n",
    "for i in range(len(dados)):\n",
    "    Si[i] = matrizB[i].sum()\n",
    "    \n",
    "Si"
   ]
  },
  {
   "cell_type": "markdown",
   "id": "6345332a",
   "metadata": {},
   "source": [
    "## Criar e exibir Matriz B ordenada"
   ]
  },
  {
   "cell_type": "code",
   "execution_count": null,
   "id": "8bbe7519",
   "metadata": {},
   "outputs": [],
   "source": [
    "matriz_ord = np.zeros([len(dados), len(dados)])\n",
    "\n",
    "i = 0\n",
    "j = 0\n",
    "k = 1\n",
    "oks = []\n",
    "candidatos = []\n",
    "\n",
    "for i in range(len(Si)):\n",
    "    if Si[i] == Si.max():\n",
    "        print('Primeira Linha Escolhida:', str(i))\n",
    "        oks.append(i)\n",
    "        matriz_ord[j] = matrizB[i]\n",
    "        j += 1\n",
    "        Si[i] = 0\n",
    "        break\n",
    "\n",
    "i = oks[0]\n",
    "while k < len(dados):\n",
    "    # Selecionando linhas candidatas\n",
    "    for m in range(len(matrizB[i])):\n",
    "        if matrizB[i][m] == matrizB[i].max():\n",
    "            candidatos.append(m)\n",
    "                \n",
    "    # Indo para próxima linha a ser ordenada\n",
    "    Si_temp = []\n",
    "    for cand in candidatos:\n",
    "        Si_temp.append(Si[cand])\n",
    "            \n",
    "    Si_ = np.array(Si_temp)\n",
    "    for n in candidatos:\n",
    "        if Si[n] == Si_.max():\n",
    "            i = n\n",
    "            k += 1\n",
    "            candidatos = []\n",
    "            print('Linha Escolhida:', str(i))\n",
    "            break\n",
    "            \n",
    "    while i in oks:\n",
    "        # Nesse caso, precisamos zerar as linhas candidatas padrão e ir para uma candidata secundária\n",
    "        lista_temp = matrizB[i]\n",
    "            \n",
    "        # Zerar linhas candidatas já contempladas\n",
    "        for m in range(len(lista_temp)):\n",
    "            if lista_temp[m] == lista_temp.max():\n",
    "                lista_temp[m] = 0\n",
    "            \n",
    "        # Selecionar linhas candidatas\n",
    "        for m in range(len(lista_temp)):\n",
    "            if lista_temp[m] == lista_temp.max():\n",
    "                candidatos.append(m)\n",
    "            \n",
    "        # Indo para próxima linha a ser ordenada\n",
    "        Si_temp = []\n",
    "        for cand in candidatos:\n",
    "            Si_temp.append(Si[cand])\n",
    "                \n",
    "        Si_ = np.array(Si_temp)\n",
    "        for n in candidatos:\n",
    "            if Si[n] == Si_.max():\n",
    "                i = n\n",
    "                candidatos = []\n",
    "                print('Nova Linha Escolhida:', str(i))\n",
    "                break\n",
    "    \n",
    "    oks.append(i)\n",
    "    matriz_ord[j] = matrizB[i]\n",
    "    j += 1\n",
    "    Si[i] = 0\n",
    "\n",
    "print('\\nMatriz B ordenada')\n",
    "print(matriz_ord)\n",
    "\n",
    "print('\\nIndices')\n",
    "print(oks)"
   ]
  },
  {
   "cell_type": "markdown",
   "id": "cdbc0cf6",
   "metadata": {},
   "source": [
    "## Ordenar e exibir Matriz I"
   ]
  },
  {
   "cell_type": "code",
   "execution_count": null,
   "id": "64dee0bb",
   "metadata": {},
   "outputs": [],
   "source": [
    "matrizI_ord = np.zeros([len(dados), len(dados.columns)])\n",
    "j = 0\n",
    "for i in oks:\n",
    "    matrizI_ord[j] = matrizI[i]\n",
    "    j += 1"
   ]
  },
  {
   "cell_type": "markdown",
   "id": "9794eb6b",
   "metadata": {},
   "source": [
    "### Matriz I ordenada"
   ]
  },
  {
   "cell_type": "code",
   "execution_count": null,
   "id": "1d1f63e5",
   "metadata": {},
   "outputs": [],
   "source": [
    "# Essa função só existe para acertar o index \n",
    "new_index = []\n",
    "for i in oks:\n",
    "    new_index.append(i + 1)\n",
    "\n",
    "tamanho = len(dados.columns) + 1\n",
    "dataset = pd.DataFrame(matrizI_ord, index = new_index, columns = np.arange(1, tamanho))\n",
    "dataset"
   ]
  },
  {
   "cell_type": "markdown",
   "id": "ff8919d5",
   "metadata": {},
   "source": [
    "## Gerar a matriz final"
   ]
  },
  {
   "cell_type": "code",
   "execution_count": null,
   "id": "a8b86ab6",
   "metadata": {},
   "outputs": [],
   "source": [
    "def submatriz(dataframe):\n",
    "    if len(dataframe) % 2 == 0:\n",
    "        SEQ1 = np.zeros([int(len(dataframe)/ 2), len(dataframe.columns)])\n",
    "        SEQ2 = np.zeros([int(len(dataframe)/ 2), len(dataframe.columns)])\n",
    "        \n",
    "        SEQ1 = dataframe[0:int(len(dataframe)/ 2)]\n",
    "        SEQ2 = dataframe[int(len(dataframe)/ 2): len(dataframe)]\n",
    "        \n",
    "    else:\n",
    "        SEQ1 = np.zeros([int((len(dataframe) + 1)/ 2), len(dataframe.columns)])\n",
    "        SEQ2 = np.zeros([int(len(dataframe)/ 2), len(dataframe.columns)])\n",
    "    \n",
    "        SEQ1 = dataframe[0:int((len(dataframe) + 1)/ 2)]\n",
    "        SEQ2 = dataframe[int((len(dataframe) + 1)/ 2): len(dataframe)]\n",
    "        \n",
    "    SEQ1df = pd.DataFrame(SEQ1)\n",
    "    SEQ2df = pd.DataFrame(SEQ2)\n",
    "    \n",
    "    return SEQ1df, SEQ2df"
   ]
  },
  {
   "cell_type": "code",
   "execution_count": null,
   "id": "5d1c887b",
   "metadata": {},
   "outputs": [],
   "source": [
    "SEQ2 = dataset\n",
    "stop = int(len(SEQ2) / 2)\n",
    "soma1 = []\n",
    "soma2 = []\n",
    "new_ord = []\n",
    "\n",
    "while stop > 1:\n",
    "    SEQ1, SEQ2 = submatriz(SEQ2)\n",
    "    \n",
    "    for i in SEQ2.columns:\n",
    "        soma1.append(SEQ1[i].sum())\n",
    "        soma2.append(SEQ2[i].sum())\n",
    "        \n",
    "    for i in range(len(soma1)):\n",
    "        if soma1[i] > soma2[i]:\n",
    "            SEQ2[i + 1] = -1\n",
    "            new_ord.append(i)\n",
    "    \n",
    "    soma1 = []\n",
    "    soma2 = []\n",
    "    stop = int(stop / 2)\n",
    "    \n",
    "    if stop == 1:\n",
    "        for i in range(len(SEQ2.columns)):\n",
    "            soma1.append(SEQ2[i + 1].sum())\n",
    "        \n",
    "        for i in range(len(soma1)):\n",
    "            if soma1[i] >= 0:\n",
    "                new_ord.append(i)"
   ]
  },
  {
   "cell_type": "code",
   "execution_count": null,
   "id": "3a0fd96c",
   "metadata": {},
   "outputs": [],
   "source": [
    "new_columns = []\n",
    "for i in new_ord:\n",
    "    new_columns.append(i + 1)\n",
    "\n",
    "Final = pd.DataFrame(columns = new_columns)\n",
    "for i in new_columns:\n",
    "    Final[i] = dataset[i]"
   ]
  },
  {
   "cell_type": "code",
   "execution_count": null,
   "id": "7f565fbd",
   "metadata": {},
   "outputs": [],
   "source": [
    "Final"
   ]
  },
  {
   "cell_type": "code",
   "execution_count": null,
   "id": "7a329a01",
   "metadata": {},
   "outputs": [],
   "source": []
  }
 ],
 "metadata": {
  "kernelspec": {
   "display_name": "Python 3",
   "language": "python",
   "name": "python3"
  },
  "language_info": {
   "codemirror_mode": {
    "name": "ipython",
    "version": 3
   },
   "file_extension": ".py",
   "mimetype": "text/x-python",
   "name": "python",
   "nbconvert_exporter": "python",
   "pygments_lexer": "ipython3",
   "version": "3.8.10"
  }
 },
 "nbformat": 4,
 "nbformat_minor": 5
}
